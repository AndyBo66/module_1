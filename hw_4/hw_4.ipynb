{
  "cells": [
    {
      "cell_type": "markdown",
      "metadata": {
        "id": "view-in-github",
        "colab_type": "text"
      },
      "source": [
        "<a href=\"https://colab.research.google.com/github/AndyBo66/module_4/blob/main/hw_4.ipynb\" target=\"_parent\"><img src=\"https://colab.research.google.com/assets/colab-badge.svg\" alt=\"Open In Colab\"/></a>"
      ]
    },
    {
      "cell_type": "code",
      "source": [
        "#1. Загрузка данных в google.colab\n",
        "\n",
        "import pandas as pd\n",
        "import matplotlib.pyplot as plt\n",
        "import seaborn as sns\n",
        "\n",
        "# Выбор файла с данными (здесь -> 'titanic.csv' - можно ввыбрать любое месторасположение)\n",
        "from google.colab import files\n",
        "uploaded = files.upload()\n",
        "\n",
        "for fn in uploaded.keys():\n",
        "  print('User uploaded file \"{name}\" with length {length} bytes'.format(\n",
        "      name=fn, length=len(uploaded[fn])))\n",
        "\n",
        "df = pd.read_csv(\"titanic.csv\")\n",
        "\n",
        "#2. Визуализация распределения признаков:\n",
        "\n",
        "# Создание гистограмм для признаков\n",
        "features = [\"Survived\", \"Pclass\", \"Age\", \"Sex\", \"Parch\"]\n",
        "for feature in features:\n",
        "    plt.figure(figsize=(6,4))\n",
        "    if df[feature].dtype == \"object\":\n",
        "        sns.countplot(x=df[feature])\n",
        "    else:\n",
        "        sns.histplot(df[feature], bins=20, kde=True)\n",
        "    plt.title(f\"Распределение {feature}\")\n",
        "    plt.show()\n",
        "\n",
        "#3. Boxplot для столбца Age:\n",
        "\n",
        "plt.figure(figsize=(6,4))\n",
        "sns.boxplot(y=df[\"Age\"])\n",
        "plt.title(\"Boxplot для возраста пассажиров\")\n",
        "plt.show()\n",
        "\n",
        "# Интерпретация: график показывает медиану возраста (≈ 28 лет), межквартильный размах и возможные выбросы, IQR (25-75 перцентили) ≈ 20-38 лет. Пропуски (~177 записей) могут влиять на форму распределения.\n",
        "\n",
        "#4. Круговая диаграмма (Pie Chart) для Survived и Pclass:\n",
        "\n",
        "df[\"Survived\"].value_counts().plot.pie(autopct=\"%1.1f%%\", labels=[\"Не выжил\", \"Выжил\"], figsize=(6,6))\n",
        "plt.title(\"Распределение выживших\")\n",
        "plt.show()\n",
        "\n",
        "df[\"Pclass\"].value_counts().plot.pie(autopct=\"%1.1f%%\", labels=[\"1 класс\", \"2 класс\", \"3 класс\"], figsize=(6,6))\n",
        "plt.title(\"Распределение по классам\")\n",
        "plt.show()\n",
        "\n",
        "#5. Pairplot для числовых переменных:\n",
        "\n",
        "sns.pairplot(df.select_dtypes(include=[\"float64\", \"int64\"]))\n",
        "plt.show()\n",
        "\n",
        "#6. Интерактивный sunburst plot с помощью plotly:\n",
        "\n",
        "import plotly.express as px\n",
        "\n",
        "df[\"Count\"] = 1  # Добавляем столбец для подсчета пассажиров\n",
        "sunburst_df = df.groupby([\"Pclass\", \"Sex\"]).sum().reset_index()\n",
        "\n",
        "fig = px.sunburst(sunburst_df, path=[\"Pclass\", \"Sex\"], values=\"Count\", title=\"Распределение пассажиров по классам и полу\")\n",
        "fig.show()"
      ],
      "metadata": {
        "id": "KZkxrqeDJuR3"
      },
      "execution_count": null,
      "outputs": []
    }
  ],
  "metadata": {
    "colab": {
      "provenance": [],
      "authorship_tag": "ABX9TyN5j9VmFb+GJSGQcfhkCXJp",
      "include_colab_link": true
    },
    "kernelspec": {
      "display_name": "Python 3",
      "name": "python3"
    },
    "language_info": {
      "name": "python"
    }
  },
  "nbformat": 4,
  "nbformat_minor": 0
}