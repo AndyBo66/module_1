{
  "cells": [
    {
      "cell_type": "code",
      "execution_count": null,
      "metadata": {
        "colab": {
          "base_uri": "https://localhost:8080/",
          "height": 426
        },
        "id": "IOKHJKQZLq06",
        "outputId": "68ff3e10-d2b7-4d9d-f6bc-c30a868fc1c0"
      },
      "outputs": [
        {
          "output_type": "stream",
          "name": "stdout",
          "text": [
            "Шоколадный батончик, добавка: кокос\n",
            "Шоколадный батончик, 65.5 руб. Добавка: кокос\n",
            "Обычный шоколадный батончик\n",
            "Шоколадный батончик, 60.0 руб.\n"
          ]
        },
        {
          "output_type": "error",
          "ename": "ValueError",
          "evalue": "Цена должна быть положительным числом",
          "traceback": [
            "\u001b[0;31m---------------------------------------------------------------------------\u001b[0m",
            "\u001b[0;31mValueError\u001b[0m                                Traceback (most recent call last)",
            "\u001b[0;32m<ipython-input-24-63258e34d1b8>\u001b[0m in \u001b[0;36m<cell line: 0>\u001b[0;34m()\u001b[0m\n\u001b[0;32m----> 1\u001b[0;31m \u001b[0;32mclass\u001b[0m \u001b[0mChocolate\u001b[0m\u001b[0;34m:\u001b[0m\u001b[0;34m\u001b[0m\u001b[0;34m\u001b[0m\u001b[0m\n\u001b[0m\u001b[1;32m      2\u001b[0m     \u001b[0;32mdef\u001b[0m \u001b[0m__init__\u001b[0m\u001b[0;34m(\u001b[0m\u001b[0mself\u001b[0m\u001b[0;34m,\u001b[0m \u001b[0mprice\u001b[0m\u001b[0;34m:\u001b[0m \u001b[0mfloat\u001b[0m\u001b[0;34m,\u001b[0m \u001b[0msupplement\u001b[0m\u001b[0;34m:\u001b[0m \u001b[0mstr\u001b[0m \u001b[0;34m=\u001b[0m \u001b[0;32mNone\u001b[0m\u001b[0;34m)\u001b[0m\u001b[0;34m:\u001b[0m\u001b[0;34m\u001b[0m\u001b[0;34m\u001b[0m\u001b[0m\n\u001b[1;32m      3\u001b[0m         \u001b[0;31m# Проверка цены\u001b[0m\u001b[0;34m\u001b[0m\u001b[0;34m\u001b[0m\u001b[0m\n\u001b[1;32m      4\u001b[0m         \u001b[0;32mif\u001b[0m \u001b[0mprice\u001b[0m \u001b[0;34m<=\u001b[0m \u001b[0;36m0\u001b[0m\u001b[0;34m:\u001b[0m\u001b[0;34m\u001b[0m\u001b[0;34m\u001b[0m\u001b[0m\n\u001b[1;32m      5\u001b[0m             \u001b[0;32mraise\u001b[0m \u001b[0mValueError\u001b[0m\u001b[0;34m(\u001b[0m\u001b[0;34m\"Цена должна быть положительным числом\"\u001b[0m\u001b[0;34m)\u001b[0m\u001b[0;34m\u001b[0m\u001b[0;34m\u001b[0m\u001b[0m\n",
            "\u001b[0;32m<ipython-input-24-63258e34d1b8>\u001b[0m in \u001b[0;36mChocolate\u001b[0;34m()\u001b[0m\n\u001b[1;32m     29\u001b[0m     \u001b[0mprint\u001b[0m\u001b[0;34m(\u001b[0m\u001b[0mchoco2\u001b[0m\u001b[0;34m)\u001b[0m  \u001b[0;31m# Шоколадный батончик, 60.0 руб.\u001b[0m\u001b[0;34m\u001b[0m\u001b[0;34m\u001b[0m\u001b[0m\n\u001b[1;32m     30\u001b[0m \u001b[0;34m\u001b[0m\u001b[0m\n\u001b[0;32m---> 31\u001b[0;31m     \u001b[0mchoco3\u001b[0m \u001b[0;34m=\u001b[0m \u001b[0mChocolate\u001b[0m\u001b[0;34m(\u001b[0m\u001b[0;34m-\u001b[0m\u001b[0;36m10\u001b[0m\u001b[0;34m)\u001b[0m  \u001b[0;31m# Вызовет ValueError\u001b[0m\u001b[0;34m\u001b[0m\u001b[0;34m\u001b[0m\u001b[0m\n\u001b[0m\u001b[1;32m     32\u001b[0m     \u001b[0mprint\u001b[0m\u001b[0;34m(\u001b[0m\u001b[0mchoco3\u001b[0m\u001b[0;34m)\u001b[0m\u001b[0;34m\u001b[0m\u001b[0;34m\u001b[0m\u001b[0m\n",
            "\u001b[0;32m<ipython-input-23-6733c508efde>\u001b[0m in \u001b[0;36m__init__\u001b[0;34m(self, price, supplement)\u001b[0m\n\u001b[1;32m      3\u001b[0m         \u001b[0;31m# Проверка цены\u001b[0m\u001b[0;34m\u001b[0m\u001b[0;34m\u001b[0m\u001b[0m\n\u001b[1;32m      4\u001b[0m         \u001b[0;32mif\u001b[0m \u001b[0mprice\u001b[0m \u001b[0;34m<=\u001b[0m \u001b[0;36m0\u001b[0m\u001b[0;34m:\u001b[0m\u001b[0;34m\u001b[0m\u001b[0;34m\u001b[0m\u001b[0m\n\u001b[0;32m----> 5\u001b[0;31m             \u001b[0;32mraise\u001b[0m \u001b[0mValueError\u001b[0m\u001b[0;34m(\u001b[0m\u001b[0;34m\"Цена должна быть положительным числом\"\u001b[0m\u001b[0;34m)\u001b[0m\u001b[0;34m\u001b[0m\u001b[0;34m\u001b[0m\u001b[0m\n\u001b[0m\u001b[1;32m      6\u001b[0m \u001b[0;34m\u001b[0m\u001b[0m\n\u001b[1;32m      7\u001b[0m         \u001b[0;31m# Инициализация атрибутов\u001b[0m\u001b[0;34m\u001b[0m\u001b[0;34m\u001b[0m\u001b[0m\n",
            "\u001b[0;31mValueError\u001b[0m: Цена должна быть положительным числом"
          ]
        }
      ],
      "source": [
        "class Chocolate:\n",
        "    def __init__(self, price: float, supplement: str = None):\n",
        "        # Проверка цены\n",
        "        if price <= 0:\n",
        "            raise ValueError(\"Цена должна быть положительным числом\")\n",
        "\n",
        "        # Инициализация атрибутов\n",
        "        self.price = price\n",
        "        self.supplement = supplement\n",
        "\n",
        "    def show_my_chocolate(self):\n",
        "        if self.supplement:\n",
        "            print(f\"Шоколадный батончик, добавка: {self.supplement}\")\n",
        "        else:\n",
        "            print(\"Обычный шоколадный батончик\")\n",
        "\n",
        "    def __str__(self):\n",
        "        base_str = f\"Шоколадный батончик, {self.price} руб.\"\n",
        "        if self.supplement:\n",
        "            return f\"{base_str} Добавка: {self.supplement}\"\n",
        "        return base_str\n",
        "\n",
        "    choco1 = Chocolate(65.50, \"кокос\")\n",
        "    choco1.show_my_chocolate()  # Шоколадный батончик, добавка: кокос\n",
        "    print(choco1)  # Шоколадный батончик, 65.5 руб. Добавка: кокос\n",
        "\n",
        "    choco2 = Chocolate(60.0)\n",
        "    choco2.show_my_chocolate()  # Обычный шоколадный батончик\n",
        "    print(choco2)  # Шоколадный батончик, 60.0 руб.\n",
        "\n",
        "    choco3 = Chocolate(-10)  # Вызовет ValueError\n",
        "    print(choco3)\n"
      ]
    }
  ],
  "metadata": {
    "colab": {
      "provenance": []
    },
    "kernelspec": {
      "display_name": "Python 3",
      "name": "python3"
    },
    "language_info": {
      "name": "python"
    }
  },
  "nbformat": 4,
  "nbformat_minor": 0
}